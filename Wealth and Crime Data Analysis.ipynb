{
 "cells": [
  {
   "cell_type": "code",
   "execution_count": 57,
   "metadata": {},
   "outputs": [
    {
     "name": "stdout",
     "output_type": "stream",
     "text": [
      "Index(['Code', 'Area', 'Year', 'Sex', 'Pupils', 'Attainment8', 'Progress8',\n",
      "       'Crime Rate', 'Pass Percentage', 'Total weekly earning'],\n",
      "      dtype='object')\n",
      "                        Pupils  Attainment8  Progress8  Crime Rate  \\\n",
      "Pupils                1.000000    -0.215308  -0.072153   -0.430081   \n",
      "Attainment8          -0.215308     1.000000   0.590932    0.028974   \n",
      "Progress8            -0.072153     0.590932   1.000000    0.146112   \n",
      "Crime Rate           -0.430081     0.028974   0.146112    1.000000   \n",
      "Pass Percentage      -0.207943     0.963135   0.584580    0.006751   \n",
      "Total weekly earning -0.351729    -0.027330   0.027792    0.317460   \n",
      "\n",
      "                      Pass Percentage  Total weekly earning  \n",
      "Pupils                      -0.207943             -0.351729  \n",
      "Attainment8                  0.963135             -0.027330  \n",
      "Progress8                    0.584580              0.027792  \n",
      "Crime Rate                   0.006751              0.317460  \n",
      "Pass Percentage              1.000000             -0.123429  \n",
      "Total weekly earning        -0.123429              1.000000  \n",
      "        Code                  Area     Year  Sex  Pupils  Attainment8  \\\n",
      "0  E09000002  Barking and Dagenham  2016/17  All  2185.0         46.7   \n",
      "1  E09000003                Barnet  2016/17  All  3528.0         54.7   \n",
      "2  E09000004                Bexley  2016/17  All  3141.0         49.0   \n",
      "3  E09000005                 Brent  2016/17  All  2908.0         49.0   \n",
      "4  E09000006               Bromley  2016/17  All  3258.0         49.8   \n",
      "\n",
      "   Progress8  Crime Rate  Pass Percentage  Total weekly earning  \n",
      "0       0.23       120.5             63.6                 902.0  \n",
      "1       0.47        98.0             77.8                 479.1  \n",
      "2      -0.05        95.1             67.6                 536.6  \n",
      "3       0.49       127.7             67.4                 513.8  \n",
      "4       0.12        89.8             70.7                 480.0  \n"
     ]
    }
   ],
   "source": [
    "import pandas as pd\n",
    "%matplotlib inline\n",
    "import matplotlib.pyplot as plt\n",
    "\n",
    "\n",
    "FINAL_DATA = pd.read_csv(\"Final_Data_1.csv\")\n",
    "\n",
    "PROCESSED_DATA = pd.DataFrame(FINAL_DATA)\n",
    "\n",
    "\n",
    "#39 per YEAR\n",
    "print(FINAL_DATA.columns)\n",
    "\n",
    "print(PROCESSED_DATA.corr())\n",
    "\n",
    "print(PROCESSED_DATA.head())\n",
    "\n",
    "\n",
    "Crime_STD = PROCESSED_DATA[\"Crime Rate\"].std()\n",
    "Earnings_STD = PROCESSED_DATA[\"Total weekly earning\"].std()\n",
    "Correlation_with_outliers = PROCESSED_DATA[\"Total weekly earning\"].corr(PROCESSED_DATA[\"Crime Rate\"])\n",
    "Earnings_Mean = PROCESSED_DATA[\"Total weekly earning\"].mean()\n",
    "Crime_Mean = PROCESSED_DATA[\"Crime Rate\"].mean()"
   ]
  },
  {
   "cell_type": "code",
   "execution_count": 58,
   "metadata": {},
   "outputs": [
    {
     "name": "stdout",
     "output_type": "stream",
     "text": [
      "\n",
      "FOR THE ENTIRE DATA SET INCLUDING OUTLIER DATA\n",
      "Crime rate has a spread of 72.83248171760428 meaning that the boroughs differ greatly in crime rate\n",
      "Earnings have a spread of 90.94482572283908 meaning that the boroughs differ greatly in wealth\n",
      "Correlation value including outliers is equal to 0.3174600150379167\n",
      "On average the total earning of a residence is  589.3515151515151  per week\n",
      "On average the crime rate of a borough is 145.11562500000002\n",
      "\n",
      "Minimum crime outlier boundary - if lower than this: Crime Rate is outlier -0.54933843520854\n",
      "Maximum crime outlier boundary - if higher than this: Crime Rate is outlier 290.7805884352086\n",
      "\n",
      "Camden and Westminster are outliers as they exceed the maximum outlier boundary for crime rate\n",
      "\n",
      "Minimum earning outlier boundary - if lower than this: earning rate is outlier 407.4618637058369\n",
      "Maximum earning outlier boundary - if higher than this: earning rate is outlier 771.2411665971932\n",
      "\n",
      "Barking and Dagenham is an outlier as it exceeds the maximum outlier boundary for average weekly earning rate per household\n"
     ]
    },
    {
     "data": {
      "image/png": "[encoded data removed]",
      "text/plain": [
       "<Figure size 432x288 with 1 Axes>"
      ]
     },
     "metadata": {
      "needs_background": "light"
     },
     "output_type": "display_data"
    }
   ],
   "source": [
    "print(\"\")\n",
    "plt.scatter(PROCESSED_DATA[\"Crime Rate\"],PROCESSED_DATA[\"Total weekly earning\"])\n",
    "print(\"FOR THE ENTIRE DATA SET INCLUDING OUTLIER DATA\")\n",
    "print(\"Crime rate has a spread of\",Crime_STD,\"meaning that the boroughs differ greatly in crime rate\")\n",
    "print(\"Earnings have a spread of\",Earnings_STD,\"meaning that the boroughs differ greatly in wealth\")\n",
    "print(\"Correlation value including outliers is equal to\", Correlation_with_outliers)\n",
    "print(\"On average the total earning of a residence is \",Earnings_Mean,\" per week\")\n",
    "print(\"On average the crime rate of a borough is\",Crime_Mean)\n",
    "print(\"\")\n",
    "print(\"Minimum crime outlier boundary - if lower than this: Crime Rate is outlier\",Crime_Mean - 2*Crime_STD)\n",
    "print(\"Maximum crime outlier boundary - if higher than this: Crime Rate is outlier\",Crime_Mean + 2*Crime_STD)\n",
    "print(\"\")\n",
    "print(\"Camden and Westminster are outliers as they exceed the maximum outlier boundary for crime rate\")\n",
    "print(\"\")\n",
    "print(\"Minimum earning outlier boundary - if lower than this: earning rate is outlier\",Earnings_Mean - 2*Earnings_STD)\n",
    "print(\"Maximum earning outlier boundary - if higher than this: earning rate is outlier\",Earnings_Mean + 2*Earnings_STD)\n",
    "print(\"\")\n",
    "print(\"Barking and Dagenham is an outlier as it exceeds the maximum outlier boundary for average weekly earning rate per household\")"
   ]
  },
  {
   "cell_type": "code",
   "execution_count": 59,
   "metadata": {},
   "outputs": [
    {
     "name": "stdout",
     "output_type": "stream",
     "text": [
      "\n",
      "FOR THE ENTIRE DATA SET EXCLUDING OUTLIER DATA\n",
      "Crime rate has a spread of 41.56294265292634 meaning that the boroughs differ greatly in crime rate\n",
      "Earnings have a spread of 71.44040004521733 meaning that the boroughs differ greatly in wealth\n",
      "Correlation value excluding outliers is equal to 0.34509715695304827\n",
      "On average the total earning of a residence is  574.14  per week\n",
      "On average the crime rate of a borough is 131.69655172413795\n"
     ]
    },
    {
     "data": {
      "text/plain": [
       "<matplotlib.collections.PathCollection at 0x7f2c59389400>"
      ]
     },
     "execution_count": 59,
     "metadata": {},
     "output_type": "execute_result"
    },
    {
     "data": {
      "image/png": "[encoded data removed]",
      "text/plain": [
       "<Figure size 432x288 with 1 Axes>"
      ]
     },
     "metadata": {
      "needs_background": "light"
     },
     "output_type": "display_data"
    }
   ],
   "source": [
    "PROCESSED_DATA = PROCESSED_DATA[[\"Area\",\"Crime Rate\",\"Total weekly earning\"]]\n",
    "\n",
    "PROCESSED_DATA.sort_values(by = \"Total weekly earning\")\n",
    "\n",
    "PROCESSED_DATA_NO_OUTLIERS = PROCESSED_DATA.drop([0,31,5])\n",
    "\n",
    "PROCESSED_DATA_NO_OUTLIERS\n",
    "\n",
    "\n",
    "Non_Outlier_Crime_STD = PROCESSED_DATA_NO_OUTLIERS[\"Crime Rate\"].std()\n",
    "Non_Outlier_Earnings_STD = PROCESSED_DATA_NO_OUTLIERS[\"Total weekly earning\"].std()\n",
    "Non_Outlier_Correlation_with_outliers = PROCESSED_DATA_NO_OUTLIERS[\"Total weekly earning\"].corr(PROCESSED_DATA_NO_OUTLIERS[\"Crime Rate\"])\n",
    "Non_Outlier_Earnings_Mean = PROCESSED_DATA_NO_OUTLIERS[\"Total weekly earning\"].mean()\n",
    "Non_Outlier_Crime_Mean = PROCESSED_DATA_NO_OUTLIERS[\"Crime Rate\"].mean()\n",
    "print(\"\")\n",
    "print(\"FOR THE ENTIRE DATA SET EXCLUDING OUTLIER DATA\")\n",
    "print(\"Crime rate has a spread of\",Non_Outlier_Crime_STD,\"meaning that the boroughs differ greatly in crime rate\")\n",
    "print(\"Earnings have a spread of\",Non_Outlier_Earnings_STD,\"meaning that the boroughs differ greatly in wealth\")\n",
    "print(\"Correlation value excluding outliers is equal to\", Non_Outlier_Correlation_with_outliers)\n",
    "print(\"On average the total earning of a residence is \",Non_Outlier_Earnings_Mean,\" per week\")\n",
    "print(\"On average the crime rate of a borough is\",Non_Outlier_Crime_Mean)\n",
    "\n",
    "\n",
    "plt.scatter(PROCESSED_DATA_NO_OUTLIERS[\"Crime Rate\"],PROCESSED_DATA_NO_OUTLIERS[\"Total weekly earning\"])"
   ]
  },
  {
   "cell_type": "code",
   "execution_count": 60,
   "metadata": {},
   "outputs": [
    {
     "data": {
      "text/plain": [
       "<matplotlib.collections.PathCollection at 0x7f2c593758d0>"
      ]
     },
     "execution_count": 60,
     "metadata": {},
     "output_type": "execute_result"
    },
    {
     "data": {
      "image/png": "[encoded data removed]",
      "text/plain": [
       "<Figure size 432x288 with 1 Axes>"
      ]
     },
     "metadata": {
      "needs_background": "light"
     },
     "output_type": "display_data"
    }
   ],
   "source": [
    "plt.scatter(PROCESSED_DATA[\"Crime Rate\"],PROCESSED_DATA[\"Total weekly earning\"])\n",
    "plt.scatter(PROCESSED_DATA_NO_OUTLIERS[\"Crime Rate\"],PROCESSED_DATA_NO_OUTLIERS[\"Total weekly earning\"])"
   ]
  },
  {
   "cell_type": "code",
   "execution_count": null,
   "metadata": {},
   "outputs": [],
   "source": []
  }
 ],
 "metadata": {
  "kernelspec": {
   "display_name": "Python 3",
   "language": "python",
   "name": "python3"
  },
  "language_info": {
   "codemirror_mode": {
    "name": "ipython",
    "version": 3
   },
   "file_extension": ".py",
   "mimetype": "text/x-python",
   "name": "python",
   "nbconvert_exporter": "python",
   "pygments_lexer": "ipython3",
   "version": "3.6.6"
  }
 },
 "nbformat": 4,
 "nbformat_minor": 2
}
